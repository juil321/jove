{
 "metadata": {
  "name": "ejercicios"
 },
 "nbformat": 3,
 "nbformat_minor": 0,
 "worksheets": [
  {
   "cells": [
    {
     "cell_type": "heading",
     "level": 1,
     "metadata": {},
     "source": "                                     Ejercicios\n"
    },
    {
     "cell_type": "heading",
     "level": 1,
     "metadata": {},
     "source": "lista con numeros pares e impares"
    },
    {
     "cell_type": "code",
     "collapsed": false,
     "input": "a=[0]*100#se crean 3 grupos con 100 elementos cada uno que por ahora son 0 (a,b,c).\nb=[0]*100\nc=[0]*100\nfor i in range (1,100):#se va a trabajar con numeros del 0 al 100.\n    a[i]=i\n    b[i]=a[i]*2#decimos que \"b\" seran los pares, por ello seran los primeros 100 multiplos de 2\n    c[i]=(a[i]*2)-1#decimos que \"c\" seran los impares por ello son los primeros 100 multiplos de 2 menos 1.\n    print (c[i],\"es impar\" )#imprimimos b y c.\n    print (b[i],\"es par\" )\n   ",
     "language": "python",
     "metadata": {},
     "outputs": [],
     "prompt_number": 3
    },
    {
     "cell_type": "heading",
     "level": 1,
     "metadata": {},
     "source": "Como obtener la raiz de un numero"
    },
    {
     "cell_type": "code",
     "collapsed": false,
     "input": "a=input(\"ingrese un numero \") # el valor que le da \"a\".\nb=input(\"ingrese la raiz que quiere obtener \")#un valor que se le da a \"b\".\nc=a**(1.0/b) #la raiz n de un numero es lo mismo que decir un numero elevado a 1/n.\nprint c# pedimos que imprima el resultado.",
     "language": "python",
     "metadata": {},
     "outputs": [],
     "prompt_number": "*"
    },
    {
     "cell_type": "heading",
     "level": 1,
     "metadata": {},
     "source": "Teorema de Pit\u00e1goras"
    },
    {
     "cell_type": "code",
     "collapsed": false,
     "input": "a=input(\"ingrese la base del triangulo \")# se da el valor de los dos lados menores del triangulo (catetos) en este caso a y b.\nb=input(\"ingrese un lado del triangulo \")\nc=((a**2)+(b**2))**0.5# esto es lo mismo que define el teorema de pitagoras.\n# la raiz del resultado de la suma de un cateto al cuadrado mas el otro cateto al cuadrad, es igual a la hipotenusa.\nprint (\"la hipotenusa es\", c)#pedimos que imprima la hipotenusa.",
     "language": "python",
     "metadata": {},
     "outputs": []
    },
    {
     "cell_type": "heading",
     "level": 1,
     "metadata": {},
     "source": "Obtener de la serie de fibonnaci los primeros..."
    },
    {
     "cell_type": "code",
     "collapsed": false,
     "input": "a=0#se le asigna valores temporales a tres elementos (a ,b y c).\nb=1\nc=1\nx= input (\"serie de fibonnaci los primeros \" )#se pregunta hasta que termino va ir la serie de fibonnaci.\nwhile c<=x:#se aclara que se va a realizar la operacion mientras el resultado (c) sea menor o igual que x.\n    print b#se pide que se imprima \"b\".\n    a,b=b,a+b#despues de imprimir \"b\" se procede a cambiar \"a\" por el anterior valor de \"b\"y que \"b\" sea =a el anterior \"a\" y el anterior \"b\"\n    c=c+1#\"c\" lo usaremos para contar la cantidad de elementos por eso despues de cada proceso se le suma 1 y su limite sera cuando sea \"x\"\n    ",
     "language": "python",
     "metadata": {},
     "outputs": [],
     "prompt_number": "*"
    },
    {
     "cell_type": "heading",
     "level": 1,
     "metadata": {},
     "source": "como elevar los primeros 1000 numeros al cuadrado"
    },
    {
     "cell_type": "code",
     "collapsed": false,
     "input": "a=[0]*1000#se dira que \"a\" y \"b\" seran dos conjuntos cada uno con 1000 elementos que por ahora seran 0.\nb=[0]*1000\nfor i in range (0,1000):#se crea i que seran todos los numeros entre 0 y 1000 que se van a usar.\n    a[i]=i#se dice que que ahora que el valor de \"a\" sera igual a su posicion en la lista.\n    b[i]=a[i]**2# y que \"b\" sera igual que tomar su \"a\" respectivo y elevarlo al cuadrado.\n    print (a[i], \"al cuadrado es \",b[i])#se imprime el resultado de \"a\" y el de \"b\".",
     "language": "python",
     "metadata": {},
     "outputs": [],
     "prompt_number": "*"
    },
    {
     "cell_type": "heading",
     "level": 1,
     "metadata": {},
     "source": "como sumar dos vectores con tres dimensiones segun sus coordenadas"
    },
    {
     "cell_type": "code",
     "collapsed": false,
     "input": "def sumavec (a,b):#definimos una funcion para sumar vectores.\n    c=[0,0,0]#\"c va a ser el resultado de la suma de sus vectores con sus coordenadas respectivas (x,y,z)\"\n    c[0]=a[0]+b[0]#esto es lo mismo que decir que \"x\" del primer vector mas \"x\" del segundo es igual a \"x\" del vector resultante.\n    c[1]=a[1]+b[1]#esto es lo mismo que decir que \"y\" del primer vector mas \"y\" del segundo es igual a \"y\" del vector resultante\n    c[2]=a[2]+b[2]#esto es lo mismo que decir que \"z\" del primer vector mas \"z\" del segundo es igual a \"z\" del vector resultante\n    print c#imprimimos \"c\" (vector resultante).\n\na=input (\"ingrese coordenadas del primer vector\" )#damos valores del primer vector en sus coordenadas (x,y,z).\nb=input (\"ingrese coordenadas del segundo vector\" )#damos valores del segundo vector en sus coordenadas (x,y,z).\n\nsumavec (a,b)#usamos la funcion que ya describimos con \"a\" y \"b\".",
     "language": "python",
     "metadata": {},
     "outputs": [],
     "prompt_number": "*"
    },
    {
     "cell_type": "heading",
     "level": 1,
     "metadata": {},
     "source": "calcular una distancia con una velocidad y un tiempo"
    },
    {
     "cell_type": "code",
     "collapsed": false,
     "input": "v=input(\"velocidad(m/s) \")#se procede a darle un valor a la velocidad \"v\" y el tiempo \"t\".\nt=input(\"tiempo(s) \")\nd=v*t #la operacion que representa que distancia \"d\" es igual a velocidad \"v\" por tiempo \"t\".\nprint d #pedimos que imprima el resultado (distancia).",
     "language": "python",
     "metadata": {},
     "outputs": [
      {
       "name": "stdout",
       "output_type": "stream",
       "stream": "stdout",
       "text": "velocidad(m/s) 100\n"
      },
      {
       "name": "stdout",
       "output_type": "stream",
       "stream": "stdout",
       "text": "tiempo(s) 10\n"
      },
      {
       "output_type": "stream",
       "stream": "stdout",
       "text": "1000\n"
      }
     ],
     "prompt_number": 13
    },
    {
     "cell_type": "heading",
     "level": 1,
     "metadata": {},
     "source": "Una sucesion de estilo 0,2,-4,6,-8..."
    },
    {
     "cell_type": "code",
     "collapsed": false,
     "input": "a=[0]*100#se dira que \"a\" y \"b\" seran dos conjuntos cada uno con 100 elementos que por ahora seran 0.\nb=[0]*100\nfor i in range (0,100):#se crea i que seran todos los numeros entre 0 y 100 que se van a usar.\n    a[i]=i#se le asignara a cada \"a un valor segun su posicion (comenzando desde el 0).\n    b[i]=-(2*i)*(-1)**i#(2*i) hace referencia a los multiplos de 2,(-1)**i hace que la sucesion sea un elemento positivo y otro negativo.\n    print b[i]         #y el - al principio se usa para comenzar 0,2,-4,6,-8 y no 0,-2,4,-6,8. despues se imprimen los resultados.      \n    \n    ",
     "language": "python",
     "metadata": {},
     "outputs": [],
     "prompt_number": 59
    },
    {
     "cell_type": "heading",
     "level": 1,
     "metadata": {},
     "source": "Ecuaci\u00f3n cuadratica"
    },
    {
     "cell_type": "code",
     "collapsed": false,
     "input": "a= input (\"ingrese el valor de a \")#se ubican los objetos que remplazarian cada elemento de la ecuacion cuadratica.\nb= input (\"ingrese el valor de b \")# (\"a\",\"b\",\"c\")con su respectivo.\nc= input (\"ingrese el valor de c \")\nd=(b**2)-4*(a*c)#expresamos lo que se encuentra dentro de la raiz en la Ecuaci\u00f3n cuadratica.\ne=d**0.5#elevar un numero a 1/2 es lo mismo que obtener su raiz cuadrada.\nf=((-b)+e)/(2*a)#se ubican los dos posibles resultados, en el primero al -b se le suma el resultado de la raiz y se divide entre 2a. \ng=((-b)-e)/(2*a)# y en el otro a -b se le resta el resultado de la raiz y se divide entre 2a.\nprint f#se imprimen los dos resultados (\"f\",\"g\")\nprint g\n",
     "language": "python",
     "metadata": {},
     "outputs": []
    },
    {
     "cell_type": "heading",
     "level": 1,
     "metadata": {},
     "source": "Crear una tabla de multiplicar"
    },
    {
     "cell_type": "code",
     "collapsed": false,
     "input": "a=input (\"ingrese un numero\" )# se pide el numero con el que se va a trabajar.\nb=[0]*11 # los resultados se van a manejar con los primeros 11 numeros incluyendo al 0 (0,1,2,3,4,5,6,7,8,9,10)\nfor i in range (0,11):# en la tabla se van a usar los primeros 11 numeros incluyendo al 0 (0,1,2,3,4,5,6,7,8,9,10)\n    b[i]=a*i#se dice que el resultado de n producto es igual al numero \"a\" + n \n    print (a,\"x\",i,\"=\",b[i]) #se imprime el resultado \"b[i]\" acompa\u00f1ado de algunos elementos (\"a\" y \"i\").\n    ",
     "language": "python",
     "metadata": {},
     "outputs": []
    }
   ],
   "metadata": {}
  }
 ]
}